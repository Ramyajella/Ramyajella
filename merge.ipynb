{
 "cells": [
  {
   "cell_type": "code",
   "execution_count": 1,
   "id": "d1c0834e",
   "metadata": {},
   "outputs": [],
   "source": [
    "import cv2\n",
    "import numpy as np"
   ]
  },
  {
   "cell_type": "code",
   "execution_count": 2,
   "id": "d355d7a8",
   "metadata": {},
   "outputs": [],
   "source": [
    "image1 =  cv2.imread(\"chess_background.png\") "
   ]
  },
  {
   "cell_type": "code",
   "execution_count": 3,
   "id": "e8abb188",
   "metadata": {},
   "outputs": [
    {
     "data": {
      "text/plain": [
       "(450, 612, 3)"
      ]
     },
     "execution_count": 3,
     "metadata": {},
     "output_type": "execute_result"
    }
   ],
   "source": [
    "image1.shape"
   ]
  },
  {
   "cell_type": "code",
   "execution_count": 4,
   "id": "6cf44fff",
   "metadata": {},
   "outputs": [],
   "source": [
    "cv2.imshow(\"chess\", image1)\n",
    "cv2.waitKey() == 12\n",
    "cv2.destroyAllWindows()"
   ]
  },
  {
   "cell_type": "code",
   "execution_count": 5,
   "id": "bd0ea09f",
   "metadata": {},
   "outputs": [],
   "source": [
    "image2 =  cv2.imread(\"macro-chess.png\") "
   ]
  },
  {
   "cell_type": "code",
   "execution_count": 6,
   "id": "77d0fda7",
   "metadata": {},
   "outputs": [],
   "source": [
    "cv2.imshow(\"macro\", image2)\n",
    "cv2.waitKey() == 12\n",
    "cv2.destroyAllWindows()"
   ]
  },
  {
   "cell_type": "code",
   "execution_count": 7,
   "id": "2e2178ad",
   "metadata": {},
   "outputs": [
    {
     "data": {
      "text/plain": [
       "(455, 728, 3)"
      ]
     },
     "execution_count": 7,
     "metadata": {},
     "output_type": "execute_result"
    }
   ],
   "source": [
    "image2.shape"
   ]
  },
  {
   "cell_type": "code",
   "execution_count": 8,
   "id": "ab456d5d",
   "metadata": {},
   "outputs": [],
   "source": [
    "image2 = cv2.resize(image2, (612,450))"
   ]
  },
  {
   "cell_type": "code",
   "execution_count": 9,
   "id": "fb9a3b29",
   "metadata": {},
   "outputs": [
    {
     "data": {
      "text/plain": [
       "(450, 612, 3)"
      ]
     },
     "execution_count": 9,
     "metadata": {},
     "output_type": "execute_result"
    }
   ],
   "source": [
    "image2.shape"
   ]
  },
  {
   "cell_type": "code",
   "execution_count": 10,
   "id": "929c79c8",
   "metadata": {},
   "outputs": [],
   "source": [
    "himg = np.hstack((image1,image2))"
   ]
  },
  {
   "cell_type": "code",
   "execution_count": 11,
   "id": "7a7d0ee4",
   "metadata": {},
   "outputs": [],
   "source": [
    "cv2.imshow(\"merge hori\", himg)\n",
    "cv2.waitKey() == 12\n",
    "cv2.destroyAllWindows()"
   ]
  },
  {
   "cell_type": "code",
   "execution_count": 17,
   "id": "f49bbf0b",
   "metadata": {},
   "outputs": [
    {
     "data": {
      "text/plain": [
       "True"
      ]
     },
     "execution_count": 17,
     "metadata": {},
     "output_type": "execute_result"
    }
   ],
   "source": [
    "cv2.imwrite('merge.png', himg)"
   ]
  },
  {
   "cell_type": "code",
   "execution_count": 12,
   "id": "166a7c74",
   "metadata": {},
   "outputs": [],
   "source": [
    "vimg = np.vstack((image1,image2))"
   ]
  },
  {
   "cell_type": "code",
   "execution_count": 13,
   "id": "672c108d",
   "metadata": {},
   "outputs": [],
   "source": [
    "cv2.imshow(\"merge vex\", vimg)\n",
    "cv2.waitKey() == 12\n",
    "cv2.destroyAllWindows()"
   ]
  },
  {
   "cell_type": "code",
   "execution_count": 14,
   "id": "dd17f65e",
   "metadata": {},
   "outputs": [
    {
     "data": {
      "text/plain": [
       "True"
      ]
     },
     "execution_count": 14,
     "metadata": {},
     "output_type": "execute_result"
    }
   ],
   "source": [
    "cv2.imwrite('merge.png', vimg)"
   ]
  }
 ],
 "metadata": {
  "kernelspec": {
   "display_name": "Python 3 (ipykernel)",
   "language": "python",
   "name": "python3"
  },
  "language_info": {
   "codemirror_mode": {
    "name": "ipython",
    "version": 3
   },
   "file_extension": ".py",
   "mimetype": "text/x-python",
   "name": "python",
   "nbconvert_exporter": "python",
   "pygments_lexer": "ipython3",
   "version": "3.9.7"
  }
 },
 "nbformat": 4,
 "nbformat_minor": 5
}
